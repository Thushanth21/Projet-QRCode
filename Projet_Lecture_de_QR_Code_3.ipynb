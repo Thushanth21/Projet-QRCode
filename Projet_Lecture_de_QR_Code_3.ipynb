{
 "cells": [
  {
   "cell_type": "markdown",
   "metadata": {},
   "source": [
    "# Projet : Lecture de QR Code."
   ]
  },
  {
   "cell_type": "markdown",
   "metadata": {},
   "source": [
    "Etudiant de BI Groupe TD 1 :"
   ]
  },
  {
   "cell_type": "code",
   "execution_count": 42,
   "metadata": {},
   "outputs": [],
   "source": [
    "#JEYAKANTHAN Thushanth\n",
    "#BAYISSA Andrew"
   ]
  },
  {
   "cell_type": "markdown",
   "metadata": {},
   "source": [
    "\n",
    "Importation des Librairies.\n"
   ]
  },
  {
   "cell_type": "code",
   "execution_count": 43,
   "metadata": {},
   "outputs": [],
   "source": [
    "import tkinter as tk\n",
    "import PIL as pil\n",
    "from PIL import Image\n",
    "from PIL import ImageTk \n",
    "from tkinter import filedialog\n",
    "from tkinter import simpledialog\n",
    "import os"
   ]
  },
  {
   "cell_type": "markdown",
   "metadata": {},
   "source": [
    "Sauvegarder une image en noir et blanc dans le fichier.\n"
   ]
  },
  {
   "cell_type": "code",
   "execution_count": 44,
   "metadata": {},
   "outputs": [],
   "source": [
    "\n",
    "def saving(matPix, filename):#sauvegarde l'image contenue dans matpix dans le fichier filename\n",
    "\t\t\t\t\t\t\t #utiliser une extension png pour que la fonction fonctionne sans perte d'information\n",
    "    toSave=pil.Image.new(mode = \"1\", size = (nbrCol(matPix),nbrLig(matPix)))\n",
    "    for i in range(nbrLig(matPix)):\n",
    "        for j in range(nbrCol(matPix)):\n",
    "            toSave.putpixel((j,i),matPix[i][j])\n",
    "    toSave.save(filename)\n",
    "\n",
    "def loading(filename):#charge le fichier image filename et renvoie une matrice de 0 et de 1 qui représente \n",
    "\t\t\t\t\t  #l'image en noir et blanc\n",
    "    toLoad=pil.Image.open(filename)\n",
    "    mat=[[0]*toLoad.size[0] for k in range(toLoad.size[1])]\n",
    "    for i in range(toLoad.size[1]):\n",
    "        for j in range(toLoad.size[0]):\n",
    "            mat[i][j]= 0 if toLoad.getpixel((j,i)) == 0 else 1\n",
    "    toLoad = toLoad.resize((500, 500))        \n",
    "    return mat"
   ]
  },
  {
   "cell_type": "markdown",
   "metadata": {},
   "source": [
    "une fonction nbrCol(matrice) qui retourne le nombre de colonnes d'une matrice \n",
    "et une fonction nbrLig(matrice) qui retourne le nombre de lignes d'une matrice."
   ]
  },
  {
   "cell_type": "code",
   "execution_count": 45,
   "metadata": {},
   "outputs": [],
   "source": [
    "def nbrCol(matrice):\n",
    "    return(len(matrice[0]))\n",
    "\n",
    "def nbrLig(matrice):\n",
    "    return len(matrice)"
   ]
  },
  {
   "cell_type": "markdown",
   "metadata": {},
   "source": [
    "Fonction charger qui permet d'afficher une image dans un canevas."
   ]
  },
  {
   "cell_type": "code",
   "execution_count": 46,
   "metadata": {},
   "outputs": [],
   "source": [
    "create=True\n",
    "nomImgCourante=\"\"\n",
    "\n",
    "def charger(widg):\n",
    "    global create\n",
    "    global photo\n",
    "    global img\n",
    "    global canvas\n",
    "    global dessin\n",
    "    global nomImgCourante\n",
    "    filename= filedialog.askopenfile(mode='rb', title='Choose a file')\n",
    "    img = pil.Image.open(filename)\n",
    "    nomImgCourante=filename.name\n",
    "    photo = ImageTk.PhotoImage(img)\n",
    "    if create:    \n",
    "        canvas = tk.Canvas(widg, width = img.size[0], height = img.size[1])\n",
    "        dessin = canvas.create_image(0,0,anchor = tk.NW, image=photo)\n",
    "        canvas.grid(row=0,column=1,rowspan=4,columnspan=2)\n",
    "        create=False\n",
    "        \n",
    "    else:\n",
    "        canvas.grid_forget()\n",
    "        canvas = tk.Canvas(widg, width = img.size[0], height = img.size[1])\n",
    "        dessin=canvas.create_image(0,0,anchor = tk.NW, image=photo)\n",
    "        canvas.grid(row=0,column=1,rowspan=4,columnspan=2)\n",
    "        "
   ]
  },
  {
   "cell_type": "markdown",
   "metadata": {},
   "source": [
    "# Question 1 :"
   ]
  },
  {
   "cell_type": "markdown",
   "metadata": {},
   "source": [
    "Génère un symbole de carré noir de 3 pixels sur 3, entouré d’une bande blanche, entouré d'un bande noire."
   ]
  },
  {
   "cell_type": "markdown",
   "metadata": {},
   "source": [
    "Le 1 représente le noir et le 0 le blanc."
   ]
  },
  {
   "cell_type": "markdown",
   "metadata": {},
   "source": [
    "une fonction qui trouve dans quel coin ce symbole n’apparaît pas."
   ]
  },
  {
   "cell_type": "code",
   "execution_count": 47,
   "metadata": {},
   "outputs": [],
   "source": [
    "def genererMatrice(taille):\n",
    "    matriceqTest = []\n",
    "   \n",
    "    for i in range(taille):\n",
    "        liste = []\n",
    "        for j in range(taille):\n",
    "            liste.append(1)\n",
    "        matriceqTest.append(liste)\n",
    "\n",
    "\n",
    "    for i in range(taille):\n",
    "        for j in range(taille):\n",
    "            if(j==7):\n",
    "                matriceqTest[i][j]=0\n",
    "            if(j-7==0):\n",
    "                matriceqTest[i][j-7]=0\n",
    "\n",
    "            if(i==7):\n",
    "                matriceqTest[i][j]=0\n",
    "            if(i-7==0):\n",
    "                matriceqTest[i-7][j]=0\n",
    "           \n",
    "            if((i>=2 and i<6) and (j>=2 and j<6)):\n",
    "                matriceqTest[i][j]=0          "
   ]
  },
  {
   "cell_type": "markdown",
   "metadata": {},
   "source": [
    "Rotation de L'image pour le positionner correctement."
   ]
  },
  {
   "cell_type": "code",
   "execution_count": 48,
   "metadata": {},
   "outputs": [],
   "source": [
    "# Fonction qui permet de faire une rotation de 90° à gauche\n",
    "def rotate_left(l, n=1):\n",
    "\n",
    "    def rotate(l):\n",
    "        rotated = []\n",
    "        for i in range(nbrLine(l)):\n",
    "            rotated.append([])\n",
    "            for j in range(nbrCol(l)):\n",
    "                rotated[i].append(l[j][len(l[0])-1-i])\n",
    "        return rotated\n",
    "\n",
    "    new_l = rotate(l)\n",
    "\n",
    "    for _ in range(n-1): new_l = rotate(new_l)\n",
    "\n",
    "    return new_l\n",
    "# Fonction qui permet de faire une rotation de 90° à droite\n",
    "def rotate_right(l, n=1):\n",
    "\n",
    "    def rotate(l):\n",
    "        rotated = []\n",
    "        for i in range(len(l[0])):\n",
    "            rotated.append([])\n",
    "            for j in range(len(l)):\n",
    "                rotated[i].append(l[len(l)-1-j][i])\n",
    "        return rotated\n",
    "\n",
    "    new_l = rotate(l)\n",
    "\n",
    "    for _ in range(n-1): new_l = rotate(new_l)\n",
    "\n",
    "    return new_l\n",
    "\n"
   ]
  },
  {
   "cell_type": "code",
   "execution_count": 49,
   "metadata": {},
   "outputs": [],
   "source": [
    "def verif_sens_QC(mat):\n",
    "    coin = genererMatrice(8)\n",
    "    for i in range(8):\n",
    "        for j in range(8):\n",
    "            if coin[i][j] != mat[i][j]:\n",
    "                mat[i][j] = coin[i][j]\n",
    "\n",
    "    cpt=0\n",
    "    for i in range(8):\n",
    "        for j in range(nbrCol(mat)+1):\n",
    "            if(j>=18):\n",
    "                mat[i][j-1]=mat[(7 - cpt)][i]\n",
    "                cpt+=1\n",
    "                #print(\"Current counter value\", cpt)\n",
    "        cpt=0\n",
    "\n",
    "    for j in range(8):\n",
    "        for i in range(nbrLig(mat)+1):\n",
    "            if(i>=18):\n",
    "                mat[i-1][j]=mat[(7 - cpt)][j]\n",
    "                cpt+=1\n",
    "        cpt=0\n",
    "\n",
    "    return mat\n"
   ]
  },
  {
   "cell_type": "markdown",
   "metadata": {},
   "source": [
    "# Question 2 :"
   ]
  },
  {
   "cell_type": "markdown",
   "metadata": {},
   "source": [
    "Une fonction qui vérifie que ces lignes apparaissent correctement."
   ]
  },
  {
   "cell_type": "code",
   "execution_count": 50,
   "metadata": {},
   "outputs": [],
   "source": [
    "frame = []\n",
    "\n",
    "for i in range(25):\n",
    "    liste = []\n",
    "    for j in range(25):\n",
    "        liste.append(1)\n",
    "    frame.append(liste)\n",
    "\n",
    "\n",
    "def check_line(matrice):\n",
    "    for i in range(nbrLig(matrice)):\n",
    "        if( ((i % 8 )== 0) and i==8):\n",
    "            for j in range(18):\n",
    "                if((j %  2) == 0):\n",
    "                    print(j)\n",
    "                    matrice[i-1][j+1]=0\n",
    "\n",
    "\n",
    "\n",
    "    for j in range(25):\n",
    "         if( ((j % 8 )== 0) and j==8):\n",
    "             for i in range(18):\n",
    "                 if((i %  2) == 0):\n",
    "                    print(i)\n",
    "                    matrice[i-1][j-1]=0\n",
    "\n",
    "\n",
    "    return matrice\n"
   ]
  },
  {
   "cell_type": "markdown",
   "metadata": {},
   "source": [
    "# Question 3 : \n"
   ]
  },
  {
   "cell_type": "markdown",
   "metadata": {},
   "source": [
    "Code Hammings :  Programmer\n",
    "une fonction qui lit 7 bits et qui renvoie les 4 bits d’information obtenus\n",
    "après correction d’erreurs."
   ]
  },
  {
   "cell_type": "code",
   "execution_count": 51,
   "metadata": {},
   "outputs": [],
   "source": [
    "def decode_Hamming74(b): \n",
    "    c1 = b[4] != (b[0] + b[1] + b[3])%2\n",
    "    c2 = b[5] != (b[0] + b[2] + b[3])%2\n",
    "    c3 = b[6] != (b[1] + b[2] + b[3])%2\n",
    "    if c1 and c2 and c3:\n",
    "        b[3] = (b[3] + 1) % 2\n",
    "    elif c1 and c2:\n",
    "        b[0] = (b[0] + 1) % 2\n",
    "    elif c1 and c3:\n",
    "        b[1] = (b[1] + 1) % 2\n",
    "    elif c2 and c3:\n",
    "        b[2] = (b[2] + 1) % 2\n",
    "    return [b[0], b[1], b[2], b[3]]"
   ]
  },
  {
   "cell_type": "markdown",
   "metadata": {},
   "source": [
    "# Question 4 :"
   ]
  },
  {
   "cell_type": "markdown",
   "metadata": {},
   "source": [
    "Une fonction qui parcourt l’image d’un QR code pour renvoyer l’information lue sous la\n",
    "forme d’une liste de listes de 14 bits.\n"
   ]
  },
  {
   "cell_type": "code",
   "execution_count": 52,
   "metadata": {},
   "outputs": [],
   "source": [
    "\n",
    "#Pas reussi \n",
    "\n",
    "\n",
    "def get_portion_of_mat(mat, start_x, start_y, end_x, end_y):\n",
    "    l = []\n",
    "    if start_x<=end_x and start_y<=end_y:\n",
    "        for i in range(start_y, end_y):\n",
    "            l.append(mat[i][start_x:end_x])\n",
    "\n",
    "    return l\n",
    "\n",
    "\n",
    "\n",
    "def get_blocks(QR,n_blocks):\n",
    "\n",
    "    def cut_list_in_4(l):\n",
    "        new_l = []\n",
    "\n",
    "        for i in range(len(l)):\n",
    "            for j in range(0,len(l[i]),len(l[i])//4):\n",
    "                new_l.append(l[i][j:j+len(l[i])//4])\n",
    "\n",
    "        return new_l\n",
    "\n",
    "\n",
    "    n_lines = n_blocks\n",
    "    n_lines += 1 if n_lines%2==1 else 0\n",
    "\n",
    "    start_x, start_y = len(QR)-14, len(QR[0])-n_lines\n",
    "\n",
    "    l = get_portion_of_mat(QR, start_x, start_y, len(QR),len(QR[0]))\n",
    "    #print_list(l)\n",
    "    \n",
    "    def reverse_list_in_list(l):\n",
    "        for i in range(len(l)):\n",
    "            temp = l[i]\n",
    "            temp.reverse()\n",
    "            l[i] = temp\n",
    "        return l\n",
    "\n",
    "    l.reverse()\n",
    "    l = reverse_list_in_list(l)\n",
    "\n",
    "\n",
    "    l_2blocks = []\n",
    "    count = 0\n",
    "\n",
    "    l_blocks_2order = []\n",
    "    for i in range(0,len(l),2):\n",
    "        if count%2 == 1:\n",
    "            part_b1 = [l[i][0:7], l[i+1][0:7]]\n",
    "            part_b2 = [l[i][7:14], l[i+1][7:14]]\n",
    "        else:\n",
    "            l_tmp1 = l[i]\n",
    "            l_tmp1.reverse()\n",
    "\n",
    "            l_tmp2 = l[i+1]\n",
    "            l_tmp2.reverse()\n",
    "\n",
    "            part_b1 = [l_tmp1[0:7], l_tmp2[0:7]]\n",
    "            part_b2 = [l_tmp1[7:14], l_tmp2[7:14]]\n",
    "\n",
    "        count += 1\n",
    "        l_blocks_2order.extend([part_b2,part_b1])\n",
    "        \n",
    "\n",
    "\n",
    "\n"
   ]
  },
  {
   "cell_type": "markdown",
   "metadata": {},
   "source": [
    "# Question 5 :"
   ]
  },
  {
   "cell_type": "markdown",
   "metadata": {},
   "source": [
    "Le contenu d’un QR code, en prenant en compte le type de données.\n",
    "\n"
   ]
  },
  {
   "cell_type": "code",
   "execution_count": null,
   "metadata": {},
   "outputs": [],
   "source": []
  },
  {
   "cell_type": "markdown",
   "metadata": {},
   "source": [
    "# Question 6 : "
   ]
  },
  {
   "cell_type": "markdown",
   "metadata": {},
   "source": [
    "Une fonction qui applique le bon filtre selon les bits de contrôle. "
   ]
  },
  {
   "cell_type": "code",
   "execution_count": 53,
   "metadata": {},
   "outputs": [],
   "source": [
    "#QR = image mais on sait pas comment importer\n",
    "\n",
    "\n",
    "def filter_QR(QR):\n",
    "    ctrl_tuple = (QR[22][8], QR[23][8]) \n",
    "\n",
    "    filtered = []\n",
    "    for i in range(len(QR)):\n",
    "        filtered.append([])\n",
    "        for j in range(len(QR[i])):\n",
    "            filtered[i].append(QR[i][j]^ctrl_tuple[(i+j)%2])\n",
    "\n",
    "    return filtered\n",
    "\n",
    "def total_decode(blocks, data_type):\n",
    "    sentence = \"\"\n",
    "    convert_to_type = [lambda s: hex(int(s,2))[2:], lambda s: chr(int(s,2))]\n",
    "\n",
    "    for block in blocks:\n",
    "        characterBits = decode_Hamming74(block[:7]) + decode_Hamming74(block[7:len(block)])\n",
    "        characterBits.reverse()\n",
    "        s = \"\" # string bit for the char\n",
    "        for b in characterBits: s += str(b)\n",
    "\n",
    "        # print(s, int(s,2), chr(int(s,2)))\n",
    "        sentence += convert_to_type[data_type](s)\n",
    "\n",
    "    return sentence"
   ]
  },
  {
   "cell_type": "markdown",
   "metadata": {},
   "source": [
    "# Question 7 :"
   ]
  },
  {
   "cell_type": "markdown",
   "metadata": {},
   "source": [
    "Décoder tous les QR codes donnés en exemple, pour vérifier si votre code fonctionne. Le QR code\n",
    "contient une suite de valeurs hexadécimales qui commence par 14BAD et contient 10 valeurs.\n"
   ]
  },
  {
   "cell_type": "code",
   "execution_count": null,
   "metadata": {},
   "outputs": [],
   "source": []
  },
  {
   "cell_type": "markdown",
   "metadata": {},
   "source": [
    "Fenêtre Graphique :"
   ]
  },
  {
   "cell_type": "code",
   "execution_count": 54,
   "metadata": {},
   "outputs": [],
   "source": [
    "#Fonctions auxiliaires \n",
    "def fermer_fenetre():\n",
    "    fenetre.destroy()\n",
    "\n",
    "    \n",
    "fenetre=tk.Tk()\n",
    "fenetre.title(\"Projet QR\")\n",
    "\n",
    "\n",
    "#Création des Widgets\n",
    "\n",
    "bouton_charger = tk.Button(fenetre, text=\"Charger\", fg=\"black\", width=15, command=lambda :charger(fenetre))\n",
    "bouton_quitter = tk.Button(fenetre, text=\"Quitter\", fg=\"black\", width=8, command=fermer_fenetre)\n",
    "\n",
    "\n",
    "\n",
    "\n",
    "\n",
    "#Positionnement des Widgets\n",
    "\n",
    "bouton_charger.grid(row=5,column=0)\n",
    "bouton_quitter.grid(row=5,column=2)\n",
    "\n",
    "\n",
    "#Lancement de la boucle \n",
    "\n",
    "fenetre.mainloop()"
   ]
  },
  {
   "cell_type": "code",
   "execution_count": null,
   "metadata": {},
   "outputs": [],
   "source": []
  }
 ],
 "metadata": {
  "interpreter": {
   "hash": "5bc213be72018c69032cf41fd1f151c6ad2d1abef451197e5edf12a9d1b47743"
  },
  "kernelspec": {
   "display_name": "Python 3.8.5 ('l1-python')",
   "language": "python",
   "name": "python3"
  },
  "language_info": {
   "codemirror_mode": {
    "name": "ipython",
    "version": 3
   },
   "file_extension": ".py",
   "mimetype": "text/x-python",
   "name": "python",
   "nbconvert_exporter": "python",
   "pygments_lexer": "ipython3",
   "version": "3.8.5"
  },
  "orig_nbformat": 4
 },
 "nbformat": 4,
 "nbformat_minor": 2
}
